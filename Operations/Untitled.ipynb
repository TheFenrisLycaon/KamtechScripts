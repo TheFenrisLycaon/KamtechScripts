{
 "cells": [
  {
   "cell_type": "code",
   "execution_count": 4,
   "metadata": {},
   "outputs": [],
   "source": [
    "from io import StringIO\n",
    "from pdfminer.converter import TextConverter\n",
    "from pdfminer.layout import LAParams\n",
    "from pdfminer.pdfdocument import PDFDocument\n",
    "from pdfminer.pdfinterp import PDFResourceManager, PDFPageInterpreter\n",
    "from pdfminer.pdfpage import PDFPage\n",
    "from pdfminer.pdfparser import PDFParser\n",
    "import PyPDF2\n",
    "# import data_func\n",
    "import csv"
   ]
  },
  {
   "cell_type": "code",
   "execution_count": 5,
   "metadata": {},
   "outputs": [],
   "source": [
    "\n",
    "def convert_pdf_to_string(file_path):\n",
    "\n",
    "\toutput_string = StringIO()\n",
    "\twith open(file_path, 'rb') as in_file:\n",
    "\t    parser = PDFParser(in_file)\n",
    "\t    doc = PDFDocument(parser)\n",
    "\t    rsrcmgr = PDFResourceManager()\n",
    "\t    device = TextConverter(rsrcmgr, output_string, laparams=LAParams())\n",
    "\t    interpreter = PDFPageInterpreter(rsrcmgr, device)\n",
    "\t    for page in PDFPage.create_pages(doc):\n",
    "\t        interpreter.process_page(page)\n",
    "\n",
    "\treturn(output_string.getvalue())\n",
    "\n",
    "                \n",
    "def convert_title_to_filename(title):\n",
    "    filename = title.lower()\n",
    "    filename = filename.replace(' ', '_')\n",
    "    return filename\n",
    "\n",
    "\n",
    "def split_to_title_and_pagenum(table_of_contents_entry):\n",
    "    title_and_pagenum = table_of_contents_entry.strip()\n",
    "    \n",
    "    title = None\n",
    "    pagenum = None\n",
    "    \n",
    "    if len(title_and_pagenum) > 0:\n",
    "        if title_and_pagenum[-1].isdigit():\n",
    "            i = -2\n",
    "            while title_and_pagenum[i].isdigit():\n",
    "                i -= 1\n",
    "\n",
    "            title = title_and_pagenum[:i].strip()\n",
    "            pagenum = int(title_and_pagenum[i:].strip())\n",
    "        \n",
    "    return title, pagenum"
   ]
  },
  {
   "cell_type": "code",
   "execution_count": 6,
   "metadata": {},
   "outputs": [
    {
     "output_type": "stream",
     "name": "stdout",
     "text": [
      "Number of pages: 28\n"
     ]
    }
   ],
   "source": [
    "reader = PyPDF2.PdfFileReader(\n",
    "    './example.pdf')\n",
    "\n",
    "# print(reader.documentInfo)\n",
    "\n",
    "num_of_pages = reader.numPages\n",
    "print('Number of pages: ' + str(num_of_pages))"
   ]
  },
  {
   "cell_type": "code",
   "execution_count": null,
   "metadata": {},
   "outputs": [],
   "source": []
  }
 ],
 "metadata": {
  "kernelspec": {
   "name": "python3",
   "display_name": "Python 3.9.4 64-bit ('webapp': conda)"
  },
  "interpreter": {
   "hash": "35e3d5ebd547cda1e88294e7774fd7183c995e0366ed07805fc486ef7265b2a9"
  }
 },
 "nbformat": 4,
 "nbformat_minor": 4
}